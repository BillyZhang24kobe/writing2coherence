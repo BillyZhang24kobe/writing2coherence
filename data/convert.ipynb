{
 "cells": [
  {
   "cell_type": "code",
   "execution_count": 1,
   "metadata": {},
   "outputs": [],
   "source": [
    "import json"
   ]
  },
  {
   "cell_type": "code",
   "execution_count": null,
   "metadata": {},
   "outputs": [],
   "source": [
    "with open('data/TrainData.json') as f:\n",
    "    train = json.load(f)\n",
    "with open('data/TestData.json') as f:\n",
    "    test = json.load(f)"
   ]
  },
  {
   "cell_type": "code",
   "execution_count": null,
   "metadata": {},
   "outputs": [],
   "source": [
    "from collections import defaultdict\n",
    "reason_group_dict = defaultdict(lambda: 'R8: Other - The new sentence is not coherent to the context due to other reasons that are not in this list')\n",
    "reason_group_dict.update({\n",
    "    1: 'R1: Sense - The sentence doesn’t make sense',\n",
    "    2: 'R2: Entity connection - The new sentence discusses an entity which has not been introduced yet',\n",
    "    3: 'R3: Discourse relation - The relation between this sentence and previous ones doesn’t make sense',\n",
    "    4: 'R4: Data consistency - The new sentence contains information inconsistent with previous presented data',\n",
    "    5: 'R5: World knowledge - The new sentence contains information inconsistent with your knowledge about the world',\n",
    "    6: 'R6: Data relevance - The new sentence is not relevant to previous data in the story',\n",
    "    7: 'R7: Title relevance - The new sentence is not relevant to the topic'\n",
    "})"
   ]
  },
  {
   "cell_type": "code",
   "execution_count": null,
   "metadata": {},
   "outputs": [],
   "source": [
    "def process_data(data: dict) -> list[dict]:\n",
    "    out = []\n",
    "    for _, inst in data.items():\n",
    "        context = [inst['IncrementalData']['sentences'][0]]\n",
    "        for idx, sent in enumerate(inst['IncrementalData']['sentences'][1:], start=1):\n",
    "            incoherent_reasons = set()\n",
    "            for _, reasons in inst['IncrementalData']['reasons'].items():\n",
    "                if str(idx) in reasons:\n",
    "                    incoherent_reasons.update(reasons[str(idx)])\n",
    "            out.append({\n",
    "                \"context\": \" \".join(context),\n",
    "                \"sentence\": sent,\n",
    "                \"is_coherent\": len(incoherent_reasons) == 0,\n",
    "                \"edit\": [{'reason': reason_group_dict[reason]} for reason in incoherent_reasons]\n",
    "            })\n",
    "            context.append(sent)\n",
    "    return out"
   ]
  },
  {
   "cell_type": "code",
   "execution_count": null,
   "metadata": {},
   "outputs": [],
   "source": [
    "train_processed = process_data(train)\n",
    "test_processed = process_data(test)\n",
    "with open('data/TrainDataConverted.json', 'w') as f:\n",
    "    json.dump(train_processed, f, ensure_ascii=False, indent=4)\n",
    "with open('data/TestDataConverted.json', 'w') as f:\n",
    "    json.dump(test_processed, f, ensure_ascii=False, indent=4)"
   ]
  },
  {
   "cell_type": "code",
   "execution_count": 2,
   "metadata": {},
   "outputs": [
    {
     "name": "stdout",
     "output_type": "stream",
     "text": [
      "2499\n",
      "293\n"
     ]
    }
   ],
   "source": [
    "with open('data/TrainDataConverted.json') as f:\n",
    "    train_processed = json.load(f)\n",
    "with open('data/TestDataConverted.json') as f:\n",
    "    test_processed = json.load(f)\n",
    "print(len(train_processed))\n",
    "print(len(test_processed))"
   ]
  }
 ],
 "metadata": {
  "kernelspec": {
   "display_name": "cohesentia",
   "language": "python",
   "name": "python3"
  },
  "language_info": {
   "codemirror_mode": {
    "name": "ipython",
    "version": 3
   },
   "file_extension": ".py",
   "mimetype": "text/x-python",
   "name": "python",
   "nbconvert_exporter": "python",
   "pygments_lexer": "ipython3",
   "version": "3.9.18"
  }
 },
 "nbformat": 4,
 "nbformat_minor": 2
}
